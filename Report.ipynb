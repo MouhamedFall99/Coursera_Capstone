{
 "cells": [
  {
   "cell_type": "markdown",
   "metadata": {},
   "source": [
    "### 1. BUSINESS PROBLEM:"
   ]
  },
  {
   "cell_type": "markdown",
   "metadata": {},
   "source": [
    "Each year, A huge number of tourists travel around the world to discover new places. Doing so, they generate lots of money and stakeholders might want to benefit from that tourism. That’s why it might be interesting for them to know what makes a city more attractive than another one or if there are any relationships between the most attractive cities in the world. For example, someone owning a business in tourism might want to extend his business in a city similar to the one where he currently works, hoping that would give him the same opportunities and benefits. Also, such a knowledge can benefit not only the stakeholders but also the tourists. Indeed, a tourist might have once travelled to a city and liked it. Therefore, for his next vacation, he would like to go to a similar place.\n",
    "\n",
    "Consequently, if we try to resolve such a problem, we remark that we can group the most visited cities in the world into clusters and study what features they share. So as a junior data scientist, we will try to uncover why the 100 most visited cities are so attractive to tourists and what do those cities have in common\n"
   ]
  },
  {
   "cell_type": "markdown",
   "metadata": {},
   "source": [
    "### 2. DATA DESCRIPTION:"
   ]
  },
  {
   "cell_type": "markdown",
   "metadata": {},
   "source": [
    "To tackle this problem, we used the following datasets: \n",
    "-\tA ranking of the most visited cities in the world that we found on this Wikipedia page: https://en.wikipedia.org/wiki/List_of_cities_by_international_visitors. We scraped the web page using BeautifulSoup. However, we only considered the data of Euromonitor as they were the most accurate.\n",
    "-\tTo get the location of each city, we used the geop library\n",
    "-\tAnd finally, we used Foursquare to get the 100 top venues of each city\t\n"
   ]
  },
  {
   "cell_type": "code",
   "execution_count": null,
   "metadata": {},
   "outputs": [],
   "source": []
  }
 ],
 "metadata": {
  "kernelspec": {
   "display_name": "Python 3.8.2 64-bit",
   "language": "python",
   "name": "python38264bitabd81efa66c84324a748dbecf1545b5a"
  },
  "language_info": {
   "codemirror_mode": {
    "name": "ipython",
    "version": 3
   },
   "file_extension": ".py",
   "mimetype": "text/x-python",
   "name": "python",
   "nbconvert_exporter": "python",
   "pygments_lexer": "ipython3",
   "version": "3.8.2"
  }
 },
 "nbformat": 4,
 "nbformat_minor": 4
}
